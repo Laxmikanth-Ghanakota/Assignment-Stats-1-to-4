{
 "cells": [
  {
   "cell_type": "markdown",
   "metadata": {},
   "source": [
    "# Assignments Statistics 1 "
   ]
  },
  {
   "cell_type": "markdown",
   "metadata": {},
   "source": [
    "Problem Statement 1: You survey households in your area to find the average rent they are paying. Find the\n",
    "standard deviation from the following data: \n",
    "$1550, $1700, $900, $850, $1000, $950."
   ]
  },
  {
   "cell_type": "markdown",
   "metadata": {},
   "source": [
    "Solution : \n",
    "stmt1 = [1550, 1700, 900, 850, 1000, 950]\n",
    "avg_rent = np.sum(stmt1) / len(stmt1)\n",
    "avg_rent\n",
    "avg_rent = (1550 + 1700 + 900 + 850 + 1000 + 950)/6 \n",
    "avg_rent            # 1158.3333333333333\n",
    "\n",
    "varian = ( (1550 - avg_rent)**2 + (1700 - avg_rent)**2 + (900 - avg_rent)**2 + (850 - avg_rent)**2 + (1000 - avg_rent)**2 + (950 - avg_rent)**2 ) / (6 - 1)\n",
    "std_dev = np.sqrt(varian)\n",
    "std_dev                    # 367.99003609699366\n"
   ]
  },
  {
   "cell_type": "markdown",
   "metadata": {},
   "source": [
    "Problem Statement 2:\n",
    "Find the variance for the following set of data representing trees in California (heights infeet):\n",
    "3, 21, 98, 203, 17, 9"
   ]
  },
  {
   "cell_type": "markdown",
   "metadata": {},
   "source": [
    "Solution :\n",
    "avg_tree = (3 + 21 + 98 + 203 + 17 + 9)/6 \n",
    "avg_tree      # 58.5\n",
    "\n",
    "var_tree = ( (3 - avg_tree)**2 + (21 - avg_tree)**2 + (98 - avg_tree)**2 + (203 - avg_tree)**2 + (17 - avg_tree)**2 + (9 - avg_tree)**2 ) / (6 - 1)\n",
    "var_tree     # 6219.9   "
   ]
  },
  {
   "cell_type": "markdown",
   "metadata": {},
   "source": [
    "Problem Statement 3\n",
    "In a class on 100 students, 80 students passed in all subjects, 10 failed in one subject, 7\n",
    "failed in two subjects and 3 failed in three subjects. Find the probability distribution of\n",
    "the variable for number of subjects a student from the given class has failed in."
   ]
  },
  {
   "cell_type": "markdown",
   "metadata": {},
   "source": [
    "Solution :\n",
    "For a random student, \n",
    "\n",
    "The probability of failing in 0 subjects, P(X=0) = 0.8\n",
    "\n",
    "The probability of failing in 1 subjects, P(X=1) = 0.1\n",
    "\n",
    "The probability of failing in 2 subjects, P(X=2) = 0.07\n",
    "\n",
    "The probability of failing in 3 subjects, P(X=3) = 0.03\n",
    "\n",
    "The probability distribution can be shown as:\n",
    " \n",
    " X\t     0\t   1  \t  2    \t  3\n",
    "\n",
    " P(X)\t0.8\t 0.1   0.07\t   0.03\n"
   ]
  },
  {
   "cell_type": "markdown",
   "metadata": {},
   "source": [
    "# Assignments Statistics 2 "
   ]
  },
  {
   "cell_type": "markdown",
   "metadata": {},
   "source": [
    " Problem Statement 1:\n",
    "A test is conducted which is consisting of 20 MCQs (multiple choices questions) with every\n",
    "MCQ having its four options out of which only one is correct. Determine the probability that\n",
    "a person undertaking that test has answered exactly 5 questions wrong."
   ]
  },
  {
   "cell_type": "markdown",
   "metadata": {},
   "source": [
    "Solution :\n",
    "Here, n = 20, n - x = 5, x = 20 - 5 = 15\n",
    "\n",
    "Here the probability of failure = probability of giving a wrong answer = p = 1/4 = 0.25\n",
    "\n",
    "Hence, the probability of success = probability of giving a right answer  = (1 - p) = 1 - 0.25 = 0.75\n",
    "\n",
    "So, P (exactly 5 out of 20 answers incorrect) = C (20, 5) * (0.75)** 5 * (0.25)**15 \n",
    " \n",
    "((20*19*18*17*16) / (5*4*3*2*1) ) * ((0.75)** 5) * ((0.25)**15)  # 0.0000034\n"
   ]
  },
  {
   "cell_type": "markdown",
   "metadata": {},
   "source": [
    "Problem Statement 2:\n",
    "A die marked A to E is rolled 50 times. Find the probability of getting a “D” exactly 5 times."
   ]
  },
  {
   "cell_type": "markdown",
   "metadata": {},
   "source": [
    "Solution :  Here, n = 50, k = 5, n - k = 45.\n",
    "    \n",
    "The probability of success = probability of getting a “D”= p = 1/5 = 0.2\n",
    "\n",
    "Hence, the probability of failure = probability of not getting a “D” = 1 - p = 4/5 = 0.8\n",
    "\n",
    "So, P (exactly 5 out of 50 times getting 'D') = C (50, 5) * (0.2)** 5 * (0.8)**45 \n",
    "\n",
    "((50*49*48*47*46) / (5*4*3*2*1) ) * ((0.2)** 5) * ((0.8)**45)  # 0.02953"
   ]
  },
  {
   "cell_type": "markdown",
   "metadata": {},
   "source": [
    "Problem Statement 3:\n",
    "Two balls are drawn at random in succession without replacement from an urn\n",
    "containing 4 red balls and 6 black balls.\n",
    "Find the probabilities of all the possible outcomes"
   ]
  },
  {
   "cell_type": "markdown",
   "metadata": {},
   "source": [
    "Solution :\n",
    "events           Probability\n",
    "\n",
    "    RR          (4/10)(3/9) = 2/15\n",
    "    \n",
    "    RB          (4/10)(6/9) = 4/15\n",
    "    \n",
    "    BR          (6/10)(4/9) = 4/15 \n",
    "    \n",
    "    BB          (6/10)(5/9) = 1/3"
   ]
  },
  {
   "cell_type": "markdown",
   "metadata": {},
   "source": [
    "# Assignments Statistics 3 "
   ]
  },
  {
   "cell_type": "markdown",
   "metadata": {},
   "source": [
    "Problem Statement 1:    Blood glucose levels for obese patients have a mean of 100 with a standard deviation of 15. A researcher thinks that a diet high in raw cornstarch will have a positive effect on blood glucose levels. A sample of 36 patients who have tried the raw cornstarch diet have a mean glucose level of 108. Test the hypothesis that the raw cornstarch had an effect or not."
   ]
  },
  {
   "cell_type": "markdown",
   "metadata": {},
   "source": [
    "Solution :\n",
    "𝐻0: (𝜇1 – 𝜇2) = 0, (the raw cornstarch had an effect on blood glucose levels)\n",
    "    \n",
    "𝐻a: (𝜇1 – 𝜇2)  ≠ 0 (the raw cornstarch had an NO effect on blood glucose levels)\n",
    "    \n",
    "n = 36 > 30  and it is 1 mean & 2 tail Z distribution, alpha = 0.05 \n",
    "\n",
    "𝜇 = 100,  𝜎 = 15  ,  x bar = 108\n",
    "\n",
    "Z = (108-100) / (15/sqrt(36))  = 3.2\n",
    "\n",
    "At Z is very high , probability is less than 0.05\n",
    "\n",
    "Hence accept Alternative hypothesis, There is evidence for the raw cornstarch had an effect on blood glucose levels"
   ]
  },
  {
   "cell_type": "markdown",
   "metadata": {},
   "source": [
    "Problem Statement 2:    In one state, 52% of the voters are Republicans, and 48% are Democrats. In a second state, 47% of the voters are Republicans, and 53% are Democrats. Suppose a simple random sample of 100 voters are surveyed from each state. What is the probability that the survey will show a greater percentage of Republican voters in the second state than in the first state?"
   ]
  },
  {
   "cell_type": "markdown",
   "metadata": {},
   "source": [
    "Solution :\n",
    "P1 = the proportion of Republican voters in the first state,\n",
    "\n",
    "P2 = the proportion of Republican voters in the second state, \n",
    "\n",
    "p1 = the proportion of Republican voters in the sample from the first state, and \n",
    "\n",
    "p2 = the proportion of Republican voters in the sample from the second state. \n",
    "\n",
    "The number of voters sampled from the first state (n1) = 100, and the number of voters sampled from the second state (n2) = 100.\n",
    "The solution involves four steps.\n",
    "\n",
    "1 Make sure the sample size is big enough to model differences with a normal population. Because n1P1 = 100 * 0.52 = 52, \n",
    "\n",
    "n1(1 - P1) = 100 * 0.48 = 48, \n",
    "\n",
    "n2P2 = 100 * 0.47 = 47, and \n",
    "\n",
    "n2(1 - P2) = 100 * 0.53 = 53 are each greater than 10, the sample size is large enough.\n",
    "\n",
    "2 Find the mean of the difference in sample proportions: E(p1 - p2) = P1 - P2 = 0.52 - 0.47 = 0.05.\n",
    "\n",
    "3 Find the standard deviation of the difference.\n",
    "\n",
    "σd = sqrt{ [ P1(1 - P1) / n1 ] + [ P2(1 - P2) / n2 ] } \n",
    "\n",
    "σd = sqrt{ [ (0.52)(0.48) / 100 ] + [ (0.47)(0.53) / 100 ] } \n",
    "\n",
    "σd = sqrt (0.002496 + 0.002491) = sqrt(0.004987) = 0.0706\n",
    "\n",
    "Find the probability. This problem requires us to find the probability that p1 is less than p2. This is equivalent to finding the probability that p1 - p2 is less than zero. To find this probability, we need to transform the random variable (p1 - p2) into a z-score. That transformation appears below.\n",
    "z (p1 - p2) = (x - μ (p1 - p2) ) / σd = = (0 - 0.05)/0.0706 = -0.7082\n",
    "\n",
    "the probability of a z-score at -0.7082 is 0.24.\n",
    "\n",
    "Therefore, the probability that the survey will show a greater percentage of Republican voters in the second state than in the first state is 0.24.\n"
   ]
  },
  {
   "cell_type": "markdown",
   "metadata": {},
   "source": [
    "Problem Statement 3:    You take the SAT and score 1100. The mean score for the SAT is 1026 and the standard deviation is 209. How well did you score on the test compared to the average test taker"
   ]
  },
  {
   "cell_type": "markdown",
   "metadata": {},
   "source": [
    "Solution : \n",
    "you score on the test  : 𝜇 = 1026,  𝜎 = 209  ,  x bar = 1100\n",
    "    \n",
    "Z = (1100-1026) / (209)  = 0.354\n",
    "\n",
    "P(0.354) = 0.6368\n",
    "\n",
    "the average test  : 𝜇 = 1026,  𝜎 = 209  ,  x bar = 1026\n",
    "    \n",
    "Z = (1026-1026) / (209)  = 0\n",
    "\n",
    "P(0) = 0.5\n",
    "\n",
    "P(0.354)  - P(0)  = 0.6368 – 0.5 = 0.1368"
   ]
  },
  {
   "cell_type": "markdown",
   "metadata": {},
   "source": [
    "# Assignments Statistics 4 "
   ]
  },
  {
   "cell_type": "markdown",
   "metadata": {},
   "source": [
    "Problem Statement 1:    Is gender independent of education level? A random sample of 395 people were surveyed and each person was asked to report the highest education level they obtained. The data that resulted from the survey is summarized in the following table:\n",
    "\n",
    "High-School \tBachelor \tMasters \tPh.D. \tTotal\n",
    "\n",
    "Female \t60 \t\t54 \t\t46 \t\t41 \t201\n",
    "\n",
    "Male \t\t40 \t\t44 \t\t53 \t\t57 \t194\n",
    "\n",
    "Total \t\t100 \t\t98 \t\t99 \t\t98 \t395\n",
    "\n",
    "Question: Are gender and education level dependent at 5% level of\n",
    "significance? In other words, given the data collected above, is there a\n",
    "relationship between the gender of an individual and the level of education\n",
    "that they have obtained?"
   ]
  },
  {
   "cell_type": "markdown",
   "metadata": {},
   "source": [
    "Solution :\n",
    "𝐻0: (𝜇1 – 𝜇2) = 0, (there is NOT a relationship between the gender of an individual(independant))\n",
    "\n",
    "𝐻a: (𝜇1 – 𝜇2)  ≠ 0 (there is a relationship between the gender of an individual(dependant))\n",
    "\n",
    "Expected feequency E = (row total * column total) / sample size\n",
    "\n",
    "Expected feequency table :\n",
    "\n",
    "50.88608\t49.86835\t50.37722\t49.86835\n",
    "\n",
    "49.11392\t48.13165\t48.62278\t48.13165\n",
    "\n",
    "Chi-square Test Statistics  χ2 = (observed frequency – Expected frequency)^2/ Expected frequency\n",
    "\n",
    "χ2 = (O-E)^2/E\n",
    "\n",
    "So, working this out, χ2=(60−50.886)250.886+⋯+(57−48.132)248.132=8.006\n",
    "\n",
    "We will compare the value of the test statistic to the critical value of χα2 with degree of freedom = (r - 1) (c - 1), and reject the null hypothesis if χ2>χα2. Df = (2-1)(4-1) = 3\n",
    "\n",
    "The critical value of χ2 with 3 degree of freedom is 7.815. Since 8.006 > 7.815, \n",
    "\n",
    "therefore we reject the null hypothesis and conclude that the education level depends on gender at a 5% level of significance.\n"
   ]
  },
  {
   "cell_type": "markdown",
   "metadata": {},
   "source": [
    "Problem Statement 2:    Using the following data, perform a one-way analysis of variance using α=.05\n",
    "\n",
    "Write up the results in APA format.\n",
    "\n",
    "[Group1: 51, 45, 33, 45, 67]\n",
    "\n",
    "[Group2: 23, 43, 23, 43, 45]\n",
    "\n",
    "[Group3: 56, 76, 74, 87, 56]"
   ]
  },
  {
   "cell_type": "markdown",
   "metadata": {},
   "source": [
    "Solution :\n",
    "Step1: Calculate all the means\n",
    "Mu of G1 μ1 = 48.2\n",
    "\n",
    "Mu of G2 μ2 = 35.4\n",
    "\n",
    "Mu of G3 μ3 = 69.8\n",
    "\n",
    "Step2 : Set up the Null and Alternate Hypothesis\n",
    "\n",
    "H0: μ1 =μ2 =μ3\n",
    "\n",
    "Ha: μ1 ≠ μ2 ≠ μ3 \n",
    "\n",
    "This means that if the critical value of F from tables is less than the calculated value of F, we reject the null hypothesis We also specify the  as well as the rejection criteria.\n",
    "\n",
    "α = 0.05\n",
    "\n",
    "Rejection criteria: K0.05 < F\n",
    "\n",
    "Step3 : Calculate the Sum of Squares\n",
    "\n",
    "The formular for sum of squares are given below\n",
    "\n",
    "SS total = SS between + SS within\n",
    "\n",
    "In the excel sheet above, you can verify that the total sum of squares  equals to the sum of squares between and sum of squares between.\n",
    "\n",
    "Step4 : The degrees of freedom are calculated using the formula below. \n",
    "\n",
    "dftotal =        n – 1 = 15 – 1 = 14\n",
    "\n",
    "dfwithin =     n – k = 15 – 3 = 12\n",
    "\n",
    "dfbetween = k – 1 = 3 – 1 = 2\n",
    "\n",
    "Verify that dftotal = dfbetween + dfwithin\n",
    "\n",
    "Step5 : Calculate the Mean Squares\n",
    "\n",
    "The formula is given below for the mean squares between\n",
    "\n",
    "MS between = SS between / Df between = 3022 / 7 = 1511.47\n",
    "\n",
    "The formula for the mean squares within\n",
    "\n",
    "MS within = SS within / Df within = 1860 / 12 = 155.07\n",
    "\n",
    "Step6 : Calculate the F Statistic\n",
    "\n",
    "Then we go ahead to calculate the F statistic using MSB and MSW\n",
    "\n",
    "F = MS between / MS within = 1511.47/155.07 = 9.75\n",
    "\n",
    "Step7 : Look up F from table and state your Conclusion\n",
    "\n",
    "From the table of F distribution, the critical value of F for 0.05 significance and \n",
    "\n",
    "degrees of freedom of(df1 = 12 and df2 = 2) \n",
    "we have: F = 3.89\n",
    "\n",
    "Since the calculated(absolute value) of F is greater than the tabulated value, \n",
    "we reject the null hypothesis and conclude that at least two of the means are significantly \n",
    "different from each other."
   ]
  },
  {
   "cell_type": "markdown",
   "metadata": {},
   "source": [
    "Problem Statement 3:    Calculate F Test for given 10, 20, 30, 40, 50 and 5,10,15, 20, 25."
   ]
  },
  {
   "cell_type": "markdown",
   "metadata": {},
   "source": [
    "Solution :\n",
    "Calculate Variance of first set \n",
    "Total Inputs (N) =(10,20,30,40,50) \n",
    "\n",
    "Total Inputs (N)=5 \n",
    "\n",
    "Mean (xm)= (x1+x1+x2...xn)/N \n",
    "\n",
    "Mean (xm)= 150/5 \n",
    "\n",
    "Means(xm)= 30 \n",
    "\n",
    "SD=sqrt(1/(N-1)*((x1-xm)2+(x2-xm)2+..+(xn-xm)2)) \n",
    "\n",
    "=sqrt(1/(5-1)((10-30)2+(20-30)2+(30-30)2+(40-30)2+(50-30)2)) \n",
    "\n",
    "=sqrt(1/4((-20)2+(-10)2+(0)2+(10)2+(20)2)) \n",
    "\n",
    "=sqrt(1/4((400)+(100)+(0)+(100)+(400))) \n",
    "\n",
    "=sqrt(250) \n",
    "\n",
    "=15.8114 \n",
    "\n",
    "Variance=SD^2 \n",
    "\n",
    "SD=15.81142 \n",
    "\n",
    "Variance=250 \n",
    "\n",
    "Calculate Variance of second set \n",
    "\n",
    "For 5, 10,15,20,25: \n",
    "\n",
    "Total Inputs(N) =(5,10,15,20,25) \n",
    "\n",
    "Total Inputs(N)=5 \n",
    "\n",
    "Mean (xm)= (x1+x2+x3...xN)/N \n",
    "\n",
    "Mean (xm)= 75/5 \n",
    "\n",
    "Means (xm)= 15 \n",
    "\n",
    "SD=sqrt(1/(N-1)*((x1-xm)2+(x2-xm)2+..+(xn-xm)2)) \n",
    "\n",
    "=sqrt(1/(5-1)((5-15)2+(10-15)2+(15-15)2+(20-15)2+(25-15)2)) \n",
    "\n",
    "=sqrt(1/4((-10)2+(-5)2+(0)2+(5)2+(10)2)) \n",
    "\n",
    "=sqrt(1/4((100)+(25)+(0)+(25)+(100)))\n",
    "\n",
    "=sqrt(62.5) \n",
    "\n",
    "=7.9057 \n",
    "Variance=SD^2 \n",
    "\n",
    "SD=7.90572 \n",
    "\n",
    "Variance=62.5 \n",
    "\n",
    "To calculate F Test \n",
    "\n",
    "F Test = (variance of 10, 20,30,40,50) / (variance of 5, 10, 15, 20, 25) \n",
    "\n",
    "= 250/62.5 \n",
    "\n",
    "= 4.\n"
   ]
  },
  {
   "cell_type": "code",
   "execution_count": null,
   "metadata": {},
   "outputs": [],
   "source": []
  }
 ],
 "metadata": {
  "kernelspec": {
   "display_name": "Python 3",
   "language": "python",
   "name": "python3"
  },
  "language_info": {
   "codemirror_mode": {
    "name": "ipython",
    "version": 3
   },
   "file_extension": ".py",
   "mimetype": "text/x-python",
   "name": "python",
   "nbconvert_exporter": "python",
   "pygments_lexer": "ipython3",
   "version": "3.7.1"
  }
 },
 "nbformat": 4,
 "nbformat_minor": 2
}
